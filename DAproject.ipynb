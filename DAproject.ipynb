{
 "cells": [
  {
   "cell_type": "code",
   "execution_count": 1,
   "id": "667538dd",
   "metadata": {},
   "outputs": [
    {
     "ename": "ModuleNotFoundError",
     "evalue": "No module named 'pandas'",
     "output_type": "error",
     "traceback": [
      "\u001b[31m---------------------------------------------------------------------------\u001b[39m",
      "\u001b[31mModuleNotFoundError\u001b[39m                       Traceback (most recent call last)",
      "\u001b[36mCell\u001b[39m\u001b[36m \u001b[39m\u001b[32mIn[1]\u001b[39m\u001b[32m, line 1\u001b[39m\n\u001b[32m----> \u001b[39m\u001b[32m1\u001b[39m \u001b[38;5;28;01mimport\u001b[39;00m\u001b[38;5;250m \u001b[39m\u001b[34;01mpandas\u001b[39;00m\u001b[38;5;250m \u001b[39m\u001b[38;5;28;01mas\u001b[39;00m\u001b[38;5;250m \u001b[39m\u001b[34;01mpd\u001b[39;00m\n",
      "\u001b[31mModuleNotFoundError\u001b[39m: No module named 'pandas'"
     ]
    }
   ],
   "source": [
    "import pandas as pd"
   ]
  },
  {
   "cell_type": "code",
   "execution_count": 2,
   "id": "86a3d881",
   "metadata": {},
   "outputs": [
    {
     "name": "stdout",
     "output_type": "stream",
     "text": [
      "Collecting pandas\n",
      "  Using cached pandas-2.3.1-cp311-cp311-win_amd64.whl.metadata (19 kB)\n",
      "Collecting numpy>=1.23.2 (from pandas)\n",
      "  Using cached numpy-2.3.2-cp311-cp311-win_amd64.whl.metadata (60 kB)\n",
      "Requirement already satisfied: python-dateutil>=2.8.2 in c:\\users\\hp\\appdata\\local\\packages\\pythonsoftwarefoundation.python.3.11_qbz5n2kfra8p0\\localcache\\local-packages\\python311\\site-packages (from pandas) (2.9.0.post0)\n",
      "Collecting pytz>=2020.1 (from pandas)\n",
      "  Using cached pytz-2025.2-py2.py3-none-any.whl.metadata (22 kB)\n",
      "Collecting tzdata>=2022.7 (from pandas)\n",
      "  Using cached tzdata-2025.2-py2.py3-none-any.whl.metadata (1.4 kB)\n",
      "Requirement already satisfied: six>=1.5 in c:\\users\\hp\\appdata\\local\\packages\\pythonsoftwarefoundation.python.3.11_qbz5n2kfra8p0\\localcache\\local-packages\\python311\\site-packages (from python-dateutil>=2.8.2->pandas) (1.17.0)\n",
      "Using cached pandas-2.3.1-cp311-cp311-win_amd64.whl (11.3 MB)\n",
      "Downloading numpy-2.3.2-cp311-cp311-win_amd64.whl (13.1 MB)\n",
      "   ---------------------------------------- 0.0/13.1 MB ? eta -:--:--\n",
      "   ---------------------------------------- 0.0/13.1 MB ? eta -:--:--\n",
      "   ---------------------------------------- 0.0/13.1 MB ? eta -:--:--\n",
      "   ---------------------------------------- 0.0/13.1 MB 93.1 kB/s eta 0:02:21\n",
      "   ---------------------------------------- 0.0/13.1 MB 119.1 kB/s eta 0:01:50\n",
      "   ---------------------------------------- 0.0/13.1 MB 119.1 kB/s eta 0:01:50\n",
      "   ---------------------------------------- 0.0/13.1 MB 130.7 kB/s eta 0:01:40\n",
      "   ---------------------------------------- 0.1/13.1 MB 310.3 kB/s eta 0:00:42\n",
      "   - -------------------------------------- 0.4/13.1 MB 1.0 MB/s eta 0:00:13\n",
      "   --- ------------------------------------ 1.1/13.1 MB 2.6 MB/s eta 0:00:05\n",
      "   ----- ---------------------------------- 1.8/13.1 MB 4.0 MB/s eta 0:00:03\n",
      "   ------ --------------------------------- 2.2/13.1 MB 4.3 MB/s eta 0:00:03\n",
      "   ------- -------------------------------- 2.5/13.1 MB 4.6 MB/s eta 0:00:03\n",
      "   -------- ------------------------------- 2.9/13.1 MB 4.8 MB/s eta 0:00:03\n",
      "   ---------- ----------------------------- 3.4/13.1 MB 5.2 MB/s eta 0:00:02\n",
      "   ------------ --------------------------- 4.0/13.1 MB 5.8 MB/s eta 0:00:02\n",
      "   ------------ --------------------------- 4.2/13.1 MB 5.5 MB/s eta 0:00:02\n",
      "   ------------- -------------------------- 4.5/13.1 MB 5.5 MB/s eta 0:00:02\n",
      "   --------------- ------------------------ 4.9/13.1 MB 5.7 MB/s eta 0:00:02\n",
      "   ---------------- ----------------------- 5.4/13.1 MB 5.9 MB/s eta 0:00:02\n",
      "   ------------------ --------------------- 6.1/13.1 MB 6.4 MB/s eta 0:00:02\n",
      "   ------------------- -------------------- 6.4/13.1 MB 6.3 MB/s eta 0:00:02\n",
      "   --------------------- ------------------ 7.1/13.1 MB 6.7 MB/s eta 0:00:01\n",
      "   ---------------------- ----------------- 7.3/13.1 MB 6.5 MB/s eta 0:00:01\n",
      "   ----------------------- ---------------- 7.7/13.1 MB 6.7 MB/s eta 0:00:01\n",
      "   ------------------------- -------------- 8.4/13.1 MB 7.0 MB/s eta 0:00:01\n",
      "   --------------------------- ------------ 9.0/13.1 MB 7.1 MB/s eta 0:00:01\n",
      "   ----------------------------- ---------- 9.5/13.1 MB 7.1 MB/s eta 0:00:01\n",
      "   ----------------------------- ---------- 9.8/13.1 MB 7.1 MB/s eta 0:00:01\n",
      "   ------------------------------- -------- 10.2/13.1 MB 7.2 MB/s eta 0:00:01\n",
      "   -------------------------------- ------- 10.6/13.1 MB 9.2 MB/s eta 0:00:01\n",
      "   --------------------------------- ------ 11.0/13.1 MB 8.8 MB/s eta 0:00:01\n",
      "   ---------------------------------- ----- 11.3/13.1 MB 8.7 MB/s eta 0:00:01\n",
      "   ----------------------------------- ---- 11.7/13.1 MB 8.5 MB/s eta 0:00:01\n",
      "   ------------------------------------ --- 12.1/13.1 MB 8.5 MB/s eta 0:00:01\n",
      "   -------------------------------------- - 12.5/13.1 MB 8.4 MB/s eta 0:00:01\n",
      "   ---------------------------------------  12.8/13.1 MB 8.5 MB/s eta 0:00:01\n",
      "   ---------------------------------------  13.1/13.1 MB 8.5 MB/s eta 0:00:01\n",
      "   ---------------------------------------  13.1/13.1 MB 8.5 MB/s eta 0:00:01\n",
      "   ---------------------------------------  13.1/13.1 MB 8.5 MB/s eta 0:00:01\n",
      "   ---------------------------------------  13.1/13.1 MB 8.5 MB/s eta 0:00:01\n",
      "   ---------------------------------------- 13.1/13.1 MB 7.3 MB/s eta 0:00:00\n",
      "Downloading pytz-2025.2-py2.py3-none-any.whl (509 kB)\n",
      "   ---------------------------------------- 0.0/509.2 kB ? eta -:--:--\n",
      "   --------------------------------------  501.8/509.2 kB 15.9 MB/s eta 0:00:01\n",
      "   ---------------------------------------- 509.2/509.2 kB 6.4 MB/s eta 0:00:00\n",
      "Downloading tzdata-2025.2-py2.py3-none-any.whl (347 kB)\n",
      "   ---------------------------------------- 0.0/347.8 kB ? eta -:--:--\n",
      "   ------------------------------------- - 337.9/347.8 kB 21.8 MB/s eta 0:00:01\n",
      "   ---------------------------------------- 347.8/347.8 kB 7.2 MB/s eta 0:00:00\n",
      "Installing collected packages: pytz, tzdata, numpy, pandas\n",
      "Successfully installed numpy-2.3.2 pandas-2.3.1 pytz-2025.2 tzdata-2025.2\n",
      "Note: you may need to restart the kernel to use updated packages.\n"
     ]
    },
    {
     "name": "stderr",
     "output_type": "stream",
     "text": [
      "\n",
      "[notice] A new release of pip is available: 24.0 -> 25.2\n",
      "[notice] To update, run: C:\\Users\\HP\\AppData\\Local\\Microsoft\\WindowsApps\\PythonSoftwareFoundation.Python.3.11_qbz5n2kfra8p0\\python.exe -m pip install --upgrade pip\n"
     ]
    }
   ],
   "source": [
    "pip install pandas"
   ]
  },
  {
   "cell_type": "code",
   "execution_count": 3,
   "id": "60b8e3d1",
   "metadata": {},
   "outputs": [],
   "source": [
    "import pandas as pd"
   ]
  },
  {
   "cell_type": "code",
   "execution_count": null,
   "id": "9bfc0c99",
   "metadata": {},
   "outputs": [],
   "source": []
  }
 ],
 "metadata": {
  "kernelspec": {
   "display_name": "Python 3",
   "language": "python",
   "name": "python3"
  },
  "language_info": {
   "codemirror_mode": {
    "name": "ipython",
    "version": 3
   },
   "file_extension": ".py",
   "mimetype": "text/x-python",
   "name": "python",
   "nbconvert_exporter": "python",
   "pygments_lexer": "ipython3",
   "version": "3.11.9"
  }
 },
 "nbformat": 4,
 "nbformat_minor": 5
}
